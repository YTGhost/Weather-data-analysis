{
 "cells": [
  {
   "cell_type": "markdown",
   "metadata": {},
   "source": [
    "# 11 RDD转DataFrame、建立Spark SQL tempTable"
   ]
  },
  {
   "cell_type": "code",
   "execution_count": 1,
   "metadata": {},
   "outputs": [
    {
     "data": {
      "text/plain": [
       "'local[*]'"
      ]
     },
     "execution_count": 1,
     "metadata": {},
     "output_type": "execute_result"
    }
   ],
   "source": [
    "sc.master # 用的单机local模式"
   ]
  },
  {
   "cell_type": "code",
   "execution_count": 2,
   "metadata": {},
   "outputs": [
    {
     "data": {
      "text/html": [
       "\n",
       "        <div>\n",
       "            <p><b>SparkContext</b></p>\n",
       "\n",
       "            <p><a href=\"http://ubuntu62.nosqldomain:4040\">Spark UI</a></p>\n",
       "\n",
       "            <dl>\n",
       "              <dt>Version</dt>\n",
       "                <dd><code>v2.4.6</code></dd>\n",
       "              <dt>Master</dt>\n",
       "                <dd><code>local[*]</code></dd>\n",
       "              <dt>AppName</dt>\n",
       "                <dd><code>PySparkShell</code></dd>\n",
       "            </dl>\n",
       "        </div>\n",
       "        "
      ],
      "text/plain": [
       "<SparkContext master=local[*] appName=PySparkShell>"
      ]
     },
     "execution_count": 2,
     "metadata": {},
     "output_type": "execute_result"
    }
   ],
   "source": [
    "sc"
   ]
  },
  {
   "cell_type": "code",
   "execution_count": 3,
   "metadata": {},
   "outputs": [],
   "source": [
    "global Path\n",
    "if sc.master[0:5]==\"local\":\n",
    "    Path=\"file:///home/s18221221/jupyter-workplace/data/\" # 最终需要以/结尾\n",
    "else:\n",
    "    Path=\"hdfs://ubuntu62:9002/data/\"\n",
    "# 如果要在cluster模式运行（hadoop yarn 或Spark Stand alone） 请把文件上传到HDFS目录"
   ]
  },
  {
   "cell_type": "markdown",
   "metadata": {},
   "source": [
    "# 建立RDD"
   ]
  },
  {
   "cell_type": "code",
   "execution_count": 4,
   "metadata": {},
   "outputs": [],
   "source": [
    "RawUserRDD = sc.textFile(Path + \"u.user\")"
   ]
  },
  {
   "cell_type": "code",
   "execution_count": 5,
   "metadata": {},
   "outputs": [
    {
     "data": {
      "text/plain": [
       "943"
      ]
     },
     "execution_count": 5,
     "metadata": {},
     "output_type": "execute_result"
    }
   ],
   "source": [
    "RawUserRDD.count()"
   ]
  },
  {
   "cell_type": "code",
   "execution_count": 6,
   "metadata": {},
   "outputs": [
    {
     "data": {
      "text/plain": [
       "['1|24|M|technician|85711',\n",
       " '2|53|F|other|94043',\n",
       " '3|23|M|writer|32067',\n",
       " '4|24|M|technician|43537',\n",
       " '5|33|F|other|15213']"
      ]
     },
     "execution_count": 6,
     "metadata": {},
     "output_type": "execute_result"
    }
   ],
   "source": [
    "RawUserRDD.take(5)"
   ]
  },
  {
   "cell_type": "code",
   "execution_count": 7,
   "metadata": {},
   "outputs": [
    {
     "data": {
      "text/plain": [
       "[['1', '24', 'M', 'technician', '85711'],\n",
       " ['2', '53', 'F', 'other', '94043'],\n",
       " ['3', '23', 'M', 'writer', '32067'],\n",
       " ['4', '24', 'M', 'technician', '43537'],\n",
       " ['5', '33', 'F', 'other', '15213']]"
      ]
     },
     "execution_count": 7,
     "metadata": {},
     "output_type": "execute_result"
    }
   ],
   "source": [
    "userRDD = RawUserRDD.map(lambda line : line.split(\"|\"))\n",
    "userRDD.take(5)"
   ]
  },
  {
   "cell_type": "markdown",
   "metadata": {},
   "source": [
    "# 建立DataFrame"
   ]
  },
  {
   "cell_type": "code",
   "execution_count": 8,
   "metadata": {},
   "outputs": [
    {
     "name": "stdout",
     "output_type": "stream",
     "text": [
      "<pyspark.sql.session.SparkSession object at 0x7f22c45a59d0>\n"
     ]
    }
   ],
   "source": [
    "sqlContext = SparkSession.builder.getOrCreate() # 获取或创建\n",
    "print(sqlContext)"
   ]
  },
  {
   "cell_type": "code",
   "execution_count": 9,
   "metadata": {},
   "outputs": [
    {
     "data": {
      "text/plain": [
       "[Row(age=24, gender='M', occupation='technician', userid=1, zipcode='85711'),\n",
       " Row(age=53, gender='F', occupation='other', userid=2, zipcode='94043'),\n",
       " Row(age=23, gender='M', occupation='writer', userid=3, zipcode='32067'),\n",
       " Row(age=24, gender='M', occupation='technician', userid=4, zipcode='43537'),\n",
       " Row(age=33, gender='F', occupation='other', userid=5, zipcode='15213')]"
      ]
     },
     "execution_count": 9,
     "metadata": {},
     "output_type": "execute_result"
    }
   ],
   "source": [
    "from pyspark.sql import Row\n",
    "user_Rows = userRDD.map(lambda p:\n",
    "    Row(\n",
    "        userid=int(p[0]),\n",
    "        age=int(p[1]),\n",
    "        gender=p[2],\n",
    "        occupation=p[3],\n",
    "        zipcode=p[4]\n",
    "    )\n",
    ")\n",
    "user_Rows.take(5)"
   ]
  },
  {
   "cell_type": "code",
   "execution_count": 10,
   "metadata": {},
   "outputs": [
    {
     "name": "stdout",
     "output_type": "stream",
     "text": [
      "root\n",
      " |-- age: long (nullable = true)\n",
      " |-- gender: string (nullable = true)\n",
      " |-- occupation: string (nullable = true)\n",
      " |-- userid: long (nullable = true)\n",
      " |-- zipcode: string (nullable = true)\n",
      "\n"
     ]
    }
   ],
   "source": [
    "user_df = sqlContext.createDataFrame(user_Rows)\n",
    "user_df.printSchema() # 输出结构元数据信息"
   ]
  },
  {
   "cell_type": "code",
   "execution_count": 11,
   "metadata": {},
   "outputs": [
    {
     "name": "stdout",
     "output_type": "stream",
     "text": [
      "<class 'pyspark.sql.dataframe.DataFrame'>\n"
     ]
    }
   ],
   "source": [
    "print(type(user_df))"
   ]
  },
  {
   "cell_type": "code",
   "execution_count": 12,
   "metadata": {},
   "outputs": [
    {
     "name": "stdout",
     "output_type": "stream",
     "text": [
      "+---+------+----------+------+-------+\n",
      "|age|gender|occupation|userid|zipcode|\n",
      "+---+------+----------+------+-------+\n",
      "| 24|     M|technician|     1|  85711|\n",
      "| 53|     F|     other|     2|  94043|\n",
      "| 23|     M|    writer|     3|  32067|\n",
      "| 24|     M|technician|     4|  43537|\n",
      "| 33|     F|     other|     5|  15213|\n",
      "+---+------+----------+------+-------+\n",
      "only showing top 5 rows\n",
      "\n"
     ]
    }
   ],
   "source": [
    "user_df.show(5)"
   ]
  },
  {
   "cell_type": "code",
   "execution_count": 13,
   "metadata": {},
   "outputs": [
    {
     "name": "stdout",
     "output_type": "stream",
     "text": [
      "+---+------+----------+------+-------+\n",
      "|age|gender|occupation|userid|zipcode|\n",
      "+---+------+----------+------+-------+\n",
      "| 24|     M|technician|     1|  85711|\n",
      "| 53|     F|     other|     2|  94043|\n",
      "| 23|     M|    writer|     3|  32067|\n",
      "| 24|     M|technician|     4|  43537|\n",
      "| 33|     F|     other|     5|  15213|\n",
      "+---+------+----------+------+-------+\n",
      "only showing top 5 rows\n",
      "\n"
     ]
    }
   ],
   "source": [
    "df = user_df.alias(\"df\") # 取别名\n",
    "df.show(5)"
   ]
  },
  {
   "cell_type": "markdown",
   "metadata": {},
   "source": [
    "# 建立Spark SQL tempTable"
   ]
  },
  {
   "cell_type": "code",
   "execution_count": 14,
   "metadata": {},
   "outputs": [],
   "source": [
    "user_df.registerTempTable(\"user_table\")"
   ]
  },
  {
   "cell_type": "code",
   "execution_count": 15,
   "metadata": {},
   "outputs": [
    {
     "name": "stdout",
     "output_type": "stream",
     "text": [
      "+------+\n",
      "|counts|\n",
      "+------+\n",
      "|   943|\n",
      "+------+\n",
      "\n"
     ]
    }
   ],
   "source": [
    "sqlContext.sql(\"SELECT count(*) counts FROM user_table\").show()"
   ]
  },
  {
   "cell_type": "markdown",
   "metadata": {},
   "source": [
    "# 显示部分字段"
   ]
  },
  {
   "cell_type": "code",
   "execution_count": 16,
   "metadata": {},
   "outputs": [
    {
     "data": {
      "text/plain": [
       "[('M', 'technician', '1'),\n",
       " ('F', 'other', '2'),\n",
       " ('M', 'writer', '3'),\n",
       " ('M', 'technician', '4'),\n",
       " ('F', 'other', '5')]"
      ]
     },
     "execution_count": 16,
     "metadata": {},
     "output_type": "execute_result"
    }
   ],
   "source": [
    "userRDDnew = userRDD.map(lambda x : (x[2], x[3], x[0]))\n",
    "userRDDnew.take(5)"
   ]
  },
  {
   "cell_type": "code",
   "execution_count": 17,
   "metadata": {},
   "outputs": [
    {
     "name": "stdout",
     "output_type": "stream",
     "text": [
      "+------+----------+------+---+\n",
      "|userid|occupation|gender|age|\n",
      "+------+----------+------+---+\n",
      "|     1|technician|     M| 24|\n",
      "|     2|     other|     F| 53|\n",
      "|     3|    writer|     M| 23|\n",
      "|     4|technician|     M| 24|\n",
      "|     5|     other|     F| 33|\n",
      "+------+----------+------+---+\n",
      "only showing top 5 rows\n",
      "\n"
     ]
    }
   ],
   "source": [
    "user_df.select(\"userid\", \"occupation\", \"gender\", \"age\").show(5)"
   ]
  },
  {
   "cell_type": "code",
   "execution_count": 18,
   "metadata": {},
   "outputs": [
    {
     "name": "stdout",
     "output_type": "stream",
     "text": [
      "+------+----------+------+---+\n",
      "|userid|occupation|gender|age|\n",
      "+------+----------+------+---+\n",
      "|     1|technician|     M| 24|\n",
      "|     2|     other|     F| 53|\n",
      "|     3|    writer|     M| 23|\n",
      "|     4|technician|     M| 24|\n",
      "|     5|     other|     F| 33|\n",
      "+------+----------+------+---+\n",
      "only showing top 5 rows\n",
      "\n"
     ]
    }
   ],
   "source": [
    "user_df.select(user_df.userid, user_df.occupation, user_df.gender, user_df.age).show(5)"
   ]
  },
  {
   "cell_type": "code",
   "execution_count": 19,
   "metadata": {},
   "outputs": [
    {
     "name": "stdout",
     "output_type": "stream",
     "text": [
      "+------+----------+------+---+\n",
      "|userid|occupation|gender|age|\n",
      "+------+----------+------+---+\n",
      "|     1|technician|     M| 24|\n",
      "|     2|     other|     F| 53|\n",
      "|     3|    writer|     M| 23|\n",
      "|     4|technician|     M| 24|\n",
      "|     5|     other|     F| 33|\n",
      "+------+----------+------+---+\n",
      "only showing top 5 rows\n",
      "\n"
     ]
    }
   ],
   "source": [
    "sqlContext.sql(\"SELECT userid, occupation, gender, age FROM user_table\").show(5)"
   ]
  },
  {
   "cell_type": "markdown",
   "metadata": {},
   "source": [
    "# 增加计算字段"
   ]
  },
  {
   "cell_type": "code",
   "execution_count": 20,
   "metadata": {},
   "outputs": [
    {
     "data": {
      "text/plain": [
       "[('1', 'technician', 'M', '24', 1996),\n",
       " ('2', 'other', 'F', '53', 1967),\n",
       " ('3', 'writer', 'M', '23', 1997),\n",
       " ('4', 'technician', 'M', '24', 1996),\n",
       " ('5', 'other', 'F', '33', 1987)]"
      ]
     },
     "execution_count": 20,
     "metadata": {},
     "output_type": "execute_result"
    }
   ],
   "source": [
    "userRDDnew = userRDD.map(lambda x : (x[0], x[3], x[2], x[1], 2020-int(x[1])))\n",
    "userRDDnew.take(5)"
   ]
  },
  {
   "cell_type": "code",
   "execution_count": 21,
   "metadata": {},
   "outputs": [
    {
     "name": "stdout",
     "output_type": "stream",
     "text": [
      "+------+----------+------+---+------------+\n",
      "|userid|occupation|gender|age|(2019 - age)|\n",
      "+------+----------+------+---+------------+\n",
      "|     1|technician|     M| 24|        1995|\n",
      "|     2|     other|     F| 53|        1966|\n",
      "|     3|    writer|     M| 23|        1996|\n",
      "|     4|technician|     M| 24|        1995|\n",
      "|     5|     other|     F| 33|        1986|\n",
      "+------+----------+------+---+------------+\n",
      "only showing top 5 rows\n",
      "\n"
     ]
    }
   ],
   "source": [
    "df.select(\"userid\", \"occupation\", \"gender\", \"age\", 2019-df.age).show(5)"
   ]
  },
  {
   "cell_type": "code",
   "execution_count": 22,
   "metadata": {},
   "outputs": [
    {
     "name": "stdout",
     "output_type": "stream",
     "text": [
      "+------+----------+------+---+---------+\n",
      "|userid|occupation|gender|age|birthyear|\n",
      "+------+----------+------+---+---------+\n",
      "|     1|technician|     M| 24|     1996|\n",
      "|     2|     other|     F| 53|     1967|\n",
      "|     3|    writer|     M| 23|     1997|\n",
      "|     4|technician|     M| 24|     1996|\n",
      "|     5|     other|     F| 33|     1987|\n",
      "+------+----------+------+---+---------+\n",
      "only showing top 5 rows\n",
      "\n"
     ]
    }
   ],
   "source": [
    "df.select(\"userid\", \"occupation\", \"gender\", \"age\", (2020-df.age).alias(\"birthyear\")).show(5)"
   ]
  },
  {
   "cell_type": "code",
   "execution_count": 23,
   "metadata": {},
   "outputs": [
    {
     "name": "stdout",
     "output_type": "stream",
     "text": [
      "+------+----------+------+---+---------+\n",
      "|userid|occupation|gender|age|birthyear|\n",
      "+------+----------+------+---+---------+\n",
      "|     1|technician|     M| 24|     1996|\n",
      "|     2|     other|     F| 53|     1967|\n",
      "|     3|    writer|     M| 23|     1997|\n",
      "|     4|technician|     M| 24|     1996|\n",
      "|     5|     other|     F| 33|     1987|\n",
      "+------+----------+------+---+---------+\n",
      "only showing top 5 rows\n",
      "\n"
     ]
    }
   ],
   "source": [
    "sqlContext.sql(\"SELECT userid, occupation, gender, age, 2020-age birthyear FROM user_table\").show(5)"
   ]
  },
  {
   "cell_type": "markdown",
   "metadata": {},
   "source": [
    "# 筛选数据"
   ]
  },
  {
   "cell_type": "code",
   "execution_count": 24,
   "metadata": {},
   "outputs": [
    {
     "data": {
      "text/plain": [
       "[['1', '24', 'M', 'technician', '85711'],\n",
       " ['4', '24', 'M', 'technician', '43537'],\n",
       " ['456', '24', 'M', 'technician', '31820'],\n",
       " ['717', '24', 'M', 'technician', '84105'],\n",
       " ['832', '24', 'M', 'technician', '77042'],\n",
       " ['889', '24', 'M', 'technician', '78704']]"
      ]
     },
     "execution_count": 24,
     "metadata": {},
     "output_type": "execute_result"
    }
   ],
   "source": [
    "userRDD.filter(lambda r : r[3] == 'technician' and r[2] == 'M' and r[1] == '24').take(6)"
   ]
  },
  {
   "cell_type": "code",
   "execution_count": 25,
   "metadata": {},
   "outputs": [
    {
     "name": "stdout",
     "output_type": "stream",
     "text": [
      "+---+------+----------+------+-------+\n",
      "|age|gender|occupation|userid|zipcode|\n",
      "+---+------+----------+------+-------+\n",
      "| 24|     M|technician|     1|  85711|\n",
      "| 24|     M|technician|     4|  43537|\n",
      "| 24|     M|technician|   456|  31820|\n",
      "+---+------+----------+------+-------+\n",
      "only showing top 3 rows\n",
      "\n"
     ]
    }
   ],
   "source": [
    "user_df.filter(\"occupation='technician'\").filter(\"gender='M'\").filter(\"age=24\").show(3)"
   ]
  },
  {
   "cell_type": "code",
   "execution_count": 26,
   "metadata": {},
   "outputs": [
    {
     "name": "stdout",
     "output_type": "stream",
     "text": [
      "+---+------+----------+------+-------+\n",
      "|age|gender|occupation|userid|zipcode|\n",
      "+---+------+----------+------+-------+\n",
      "| 24|     M|technician|     1|  85711|\n",
      "| 24|     M|technician|     4|  43537|\n",
      "| 24|     M|technician|   456|  31820|\n",
      "| 24|     M|technician|   717|  84105|\n",
      "| 24|     M|technician|   832|  77042|\n",
      "| 24|     M|technician|   889|  78704|\n",
      "+---+------+----------+------+-------+\n",
      "\n"
     ]
    }
   ],
   "source": [
    "user_df.filter(\"occupation='technician' and gender='M' and age=24\").show()"
   ]
  },
  {
   "cell_type": "code",
   "execution_count": 27,
   "metadata": {},
   "outputs": [
    {
     "name": "stdout",
     "output_type": "stream",
     "text": [
      "+---+------+----------+------+-------+\n",
      "|age|gender|occupation|userid|zipcode|\n",
      "+---+------+----------+------+-------+\n",
      "| 24|     M|technician|     1|  85711|\n",
      "| 24|     M|technician|     4|  43537|\n",
      "| 24|     M|technician|   456|  31820|\n",
      "| 24|     M|technician|   717|  84105|\n",
      "| 24|     M|technician|   832|  77042|\n",
      "| 24|     M|technician|   889|  78704|\n",
      "+---+------+----------+------+-------+\n",
      "\n"
     ]
    }
   ],
   "source": [
    "df.filter((df.occupation=='technician') & (df.gender=='M') & (df.age==24)).show()"
   ]
  },
  {
   "cell_type": "code",
   "execution_count": 28,
   "metadata": {},
   "outputs": [
    {
     "name": "stdout",
     "output_type": "stream",
     "text": [
      "+---+------+----------+------+-------+\n",
      "|age|gender|occupation|userid|zipcode|\n",
      "+---+------+----------+------+-------+\n",
      "| 24|     M|technician|     1|  85711|\n",
      "| 24|     M|technician|     4|  43537|\n",
      "| 24|     M|technician|   456|  31820|\n",
      "| 24|     M|technician|   717|  84105|\n",
      "| 24|     M|technician|   832|  77042|\n",
      "| 24|     M|technician|   889|  78704|\n",
      "+---+------+----------+------+-------+\n",
      "\n"
     ]
    }
   ],
   "source": [
    "df.filter((df['occupation']=='technician') & (df['gender']=='M') & (df['age']==24)).show()"
   ]
  },
  {
   "cell_type": "code",
   "execution_count": 29,
   "metadata": {},
   "outputs": [
    {
     "name": "stdout",
     "output_type": "stream",
     "text": [
      "+---+------+----------+------+-------+\n",
      "|age|gender|occupation|userid|zipcode|\n",
      "+---+------+----------+------+-------+\n",
      "| 24|     M|technician|     1|  85711|\n",
      "| 24|     M|technician|     4|  43537|\n",
      "| 24|     M|technician|   456|  31820|\n",
      "| 24|     M|technician|   717|  84105|\n",
      "| 24|     M|technician|   832|  77042|\n",
      "+---+------+----------+------+-------+\n",
      "only showing top 5 rows\n",
      "\n"
     ]
    }
   ],
   "source": [
    "sqlContext.sql(\"SELECT * FROM user_table where occupation='technician' and gender='M' and age=24\").show(5)"
   ]
  },
  {
   "cell_type": "markdown",
   "metadata": {},
   "source": [
    "# 单个字段排序"
   ]
  },
  {
   "cell_type": "code",
   "execution_count": 30,
   "metadata": {},
   "outputs": [
    {
     "name": "stdout",
     "output_type": "stream",
     "text": [
      "+------+-------------+------+---+\n",
      "|userid|   occupation|gender|age|\n",
      "+------+-------------+------+---+\n",
      "|   481|      retired|     M| 73|\n",
      "|   767|     engineer|     M| 70|\n",
      "|   860|      retired|     F| 70|\n",
      "|   803|administrator|     M| 70|\n",
      "|   559|    executive|     M| 69|\n",
      "+------+-------------+------+---+\n",
      "only showing top 5 rows\n",
      "\n"
     ]
    }
   ],
   "source": [
    "# ascending=0 降序\n",
    "# ascending=1 升序\n",
    "df.select(\"userid\", \"occupation\", \"gender\", \"age\").orderBy(\"age\", ascending=0).show(5)"
   ]
  },
  {
   "cell_type": "code",
   "execution_count": 31,
   "metadata": {},
   "outputs": [
    {
     "name": "stdout",
     "output_type": "stream",
     "text": [
      "+------+----------+------+---+\n",
      "|userid|occupation|gender|age|\n",
      "+------+----------+------+---+\n",
      "|    30|   student|     M|  7|\n",
      "|   471|   student|     M| 10|\n",
      "|   289|      none|     M| 11|\n",
      "|   142|     other|     M| 13|\n",
      "|   609|   student|     F| 13|\n",
      "+------+----------+------+---+\n",
      "only showing top 5 rows\n",
      "\n"
     ]
    }
   ],
   "source": [
    "df.select(\"userid\", \"occupation\", \"gender\", \"age\").orderBy(df.age).show(5)"
   ]
  },
  {
   "cell_type": "code",
   "execution_count": 32,
   "metadata": {},
   "outputs": [
    {
     "name": "stdout",
     "output_type": "stream",
     "text": [
      "+------+-------------+------+---+\n",
      "|userid|   occupation|gender|age|\n",
      "+------+-------------+------+---+\n",
      "|   481|      retired|     M| 73|\n",
      "|   767|     engineer|     M| 70|\n",
      "|   860|      retired|     F| 70|\n",
      "|   803|administrator|     M| 70|\n",
      "|   559|    executive|     M| 69|\n",
      "+------+-------------+------+---+\n",
      "only showing top 5 rows\n",
      "\n"
     ]
    }
   ],
   "source": [
    "df.select(\"userid\", \"occupation\", \"gender\", \"age\").orderBy(df.age.desc()).show(5)"
   ]
  },
  {
   "cell_type": "code",
   "execution_count": 33,
   "metadata": {},
   "outputs": [
    {
     "name": "stdout",
     "output_type": "stream",
     "text": [
      "+------+----------+------+---+\n",
      "|userid|occupation|gender|age|\n",
      "+------+----------+------+---+\n",
      "|    30|   student|     M|  7|\n",
      "|   471|   student|     M| 10|\n",
      "|   289|      none|     M| 11|\n",
      "|   880|   student|     M| 13|\n",
      "|   628|      none|     M| 13|\n",
      "+------+----------+------+---+\n",
      "only showing top 5 rows\n",
      "\n"
     ]
    }
   ],
   "source": [
    "# 按照年龄升序\n",
    "sqlContext.sql(\"SELECT userid, occupation, gender, age FROM user_table ORDER BY age\").show(5)"
   ]
  },
  {
   "cell_type": "code",
   "execution_count": 34,
   "metadata": {},
   "outputs": [
    {
     "name": "stdout",
     "output_type": "stream",
     "text": [
      "+------+-------------+------+---+\n",
      "|userid|   occupation|gender|age|\n",
      "+------+-------------+------+---+\n",
      "|   481|      retired|     M| 73|\n",
      "|   860|      retired|     F| 70|\n",
      "|   767|     engineer|     M| 70|\n",
      "|   803|administrator|     M| 70|\n",
      "|   559|    executive|     M| 69|\n",
      "+------+-------------+------+---+\n",
      "only showing top 5 rows\n",
      "\n"
     ]
    }
   ],
   "source": [
    "# 按照年龄降序\n",
    "sqlContext.sql(\"SELECT userid, occupation, gender, age FROM user_table ORDER BY age DESC\").show(5)"
   ]
  },
  {
   "cell_type": "markdown",
   "metadata": {},
   "source": [
    "# 多字段排序"
   ]
  },
  {
   "cell_type": "code",
   "execution_count": 35,
   "metadata": {},
   "outputs": [
    {
     "data": {
      "text/plain": [
       "[['481', '73', 'M', 'retired', '37771'],\n",
       " ['860', '70', 'F', 'retired', '48322'],\n",
       " ['767', '70', 'M', 'engineer', '00000'],\n",
       " ['803', '70', 'M', 'administrator', '78212'],\n",
       " ['559', '69', 'M', 'executive', '10022']]"
      ]
     },
     "execution_count": 35,
     "metadata": {},
     "output_type": "execute_result"
    }
   ],
   "source": [
    "userRDD.takeOrdered(5, key = lambda x : (-int(x[1]), x[2]))"
   ]
  },
  {
   "cell_type": "code",
   "execution_count": 36,
   "metadata": {},
   "outputs": [
    {
     "name": "stdout",
     "output_type": "stream",
     "text": [
      "+------+---+------+-------------+-------+\n",
      "|userid|age|gender|   occupation|zipcode|\n",
      "+------+---+------+-------------+-------+\n",
      "|   481| 73|     M|      retired|  37771|\n",
      "|   860| 70|     F|      retired|  48322|\n",
      "|   803| 70|     M|administrator|  78212|\n",
      "|   767| 70|     M|     engineer|  00000|\n",
      "|   559| 69|     M|    executive|  10022|\n",
      "+------+---+------+-------------+-------+\n",
      "only showing top 5 rows\n",
      "\n"
     ]
    }
   ],
   "source": [
    "sqlContext.sql(\"\"\"\n",
    "SELECT userid, age, gender, occupation, zipcode\n",
    "FROM user_table\n",
    "ORDER BY age DESC, gender \"\"\").show(5)"
   ]
  },
  {
   "cell_type": "code",
   "execution_count": 37,
   "metadata": {},
   "outputs": [
    {
     "name": "stdout",
     "output_type": "stream",
     "text": [
      "+---+------+-------------+------+-------+\n",
      "|age|gender|   occupation|userid|zipcode|\n",
      "+---+------+-------------+------+-------+\n",
      "| 73|     M|      retired|   481|  37771|\n",
      "| 70|     F|      retired|   860|  48322|\n",
      "| 70|     M|administrator|   803|  78212|\n",
      "| 70|     M|     engineer|   767|  00000|\n",
      "| 69|     M|    executive|   559|  10022|\n",
      "+---+------+-------------+------+-------+\n",
      "only showing top 5 rows\n",
      "\n"
     ]
    }
   ],
   "source": [
    "df.orderBy([\"age\", \"gender\"], ascending=[0, 1]).show(5) # 年龄降序，性别升序"
   ]
  },
  {
   "cell_type": "code",
   "execution_count": 38,
   "metadata": {},
   "outputs": [
    {
     "name": "stdout",
     "output_type": "stream",
     "text": [
      "+---+------+-------------+------+-------+\n",
      "|age|gender|   occupation|userid|zipcode|\n",
      "+---+------+-------------+------+-------+\n",
      "| 73|     M|      retired|   481|  37771|\n",
      "| 70|     F|      retired|   860|  48322|\n",
      "| 70|     M|     engineer|   767|  00000|\n",
      "| 70|     M|administrator|   803|  78212|\n",
      "| 69|     M|    executive|   559|  10022|\n",
      "+---+------+-------------+------+-------+\n",
      "only showing top 5 rows\n",
      "\n"
     ]
    }
   ],
   "source": [
    "df.orderBy(df.age.desc(), df.gender).show(5)"
   ]
  },
  {
   "cell_type": "markdown",
   "metadata": {},
   "source": [
    "# 显示不重复数据"
   ]
  },
  {
   "cell_type": "code",
   "execution_count": 39,
   "metadata": {},
   "outputs": [
    {
     "data": {
      "text/plain": [
       "['M', 'F']"
      ]
     },
     "execution_count": 39,
     "metadata": {},
     "output_type": "execute_result"
    }
   ],
   "source": [
    "userRDD.map(lambda x : x[2]).distinct().collect()"
   ]
  },
  {
   "cell_type": "code",
   "execution_count": 40,
   "metadata": {},
   "outputs": [
    {
     "data": {
      "text/plain": [
       "[('23', 'M'),\n",
       " ('42', 'M'),\n",
       " ('36', 'M'),\n",
       " ('39', 'F'),\n",
       " ('28', 'F'),\n",
       " ('47', 'M'),\n",
       " ('49', 'F'),\n",
       " ('30', 'M'),\n",
       " ('35', 'F'),\n",
       " ('42', 'F'),\n",
       " ('25', 'M'),\n",
       " ('30', 'F'),\n",
       " ('39', 'M'),\n",
       " ('49', 'M'),\n",
       " ('32', 'M'),\n",
       " ('41', 'M'),\n",
       " ('7', 'M'),\n",
       " ('38', 'F'),\n",
       " ('38', 'M'),\n",
       " ('27', 'F')]"
      ]
     },
     "execution_count": 40,
     "metadata": {},
     "output_type": "execute_result"
    }
   ],
   "source": [
    "userRDD.map(lambda x : (x[1], x[2])).distinct().take(20) # 多个列共同确定是否唯一"
   ]
  },
  {
   "cell_type": "code",
   "execution_count": 41,
   "metadata": {},
   "outputs": [
    {
     "name": "stdout",
     "output_type": "stream",
     "text": [
      "+------+\n",
      "|gender|\n",
      "+------+\n",
      "|     F|\n",
      "|     M|\n",
      "+------+\n",
      "\n"
     ]
    }
   ],
   "source": [
    "sqlContext.sql(\"SELECT distinct gender FROM user_table\").show()"
   ]
  },
  {
   "cell_type": "code",
   "execution_count": 42,
   "metadata": {},
   "outputs": [
    {
     "name": "stdout",
     "output_type": "stream",
     "text": [
      "+---+------+\n",
      "|age|gender|\n",
      "+---+------+\n",
      "| 39|     F|\n",
      "| 48|     M|\n",
      "| 26|     M|\n",
      "| 28|     M|\n",
      "| 54|     M|\n",
      "| 60|     M|\n",
      "| 50|     M|\n",
      "| 53|     F|\n",
      "| 30|     M|\n",
      "| 48|     F|\n",
      "| 47|     M|\n",
      "| 46|     M|\n",
      "| 56|     M|\n",
      "| 32|     M|\n",
      "| 31|     M|\n",
      "| 53|     M|\n",
      "| 20|     F|\n",
      "| 29|     F|\n",
      "| 21|     F|\n",
      "| 42|     M|\n",
      "+---+------+\n",
      "only showing top 20 rows\n",
      "\n"
     ]
    }
   ],
   "source": [
    "sqlContext.sql(\"SELECT distinct age, gender FROM user_table\").show()"
   ]
  },
  {
   "cell_type": "code",
   "execution_count": 43,
   "metadata": {},
   "outputs": [
    {
     "name": "stdout",
     "output_type": "stream",
     "text": [
      "+------+\n",
      "|gender|\n",
      "+------+\n",
      "|     F|\n",
      "|     M|\n",
      "+------+\n",
      "\n"
     ]
    }
   ],
   "source": [
    "user_df.select(\"gender\").distinct().show()"
   ]
  },
  {
   "cell_type": "code",
   "execution_count": 44,
   "metadata": {},
   "outputs": [
    {
     "name": "stdout",
     "output_type": "stream",
     "text": [
      "+------+---+\n",
      "|gender|age|\n",
      "+------+---+\n",
      "|     F| 29|\n",
      "|     F| 47|\n",
      "|     M| 56|\n",
      "|     M| 53|\n",
      "|     F| 28|\n",
      "|     M| 33|\n",
      "|     F| 49|\n",
      "|     F| 40|\n",
      "|     F| 13|\n",
      "|     F| 57|\n",
      "|     F| 23|\n",
      "|     F| 20|\n",
      "|     F| 59|\n",
      "|     M| 60|\n",
      "|     F| 31|\n",
      "|     F| 33|\n",
      "|     M| 15|\n",
      "|     F| 32|\n",
      "|     M| 17|\n",
      "|     M| 32|\n",
      "+------+---+\n",
      "only showing top 20 rows\n",
      "\n"
     ]
    }
   ],
   "source": [
    "user_df.select(\"gender\", \"age\").distinct().show()"
   ]
  },
  {
   "cell_type": "code",
   "execution_count": 45,
   "metadata": {},
   "outputs": [
    {
     "name": "stdout",
     "output_type": "stream",
     "text": [
      "+------+-----+\n",
      "|gender|count|\n",
      "+------+-----+\n",
      "|     F|  273|\n",
      "|     M|  670|\n",
      "+------+-----+\n",
      "\n"
     ]
    }
   ],
   "source": [
    "user_df.select(\"gender\")\\\n",
    "        .groupby(\"gender\")\\\n",
    "        .count().show()"
   ]
  },
  {
   "cell_type": "code",
   "execution_count": 46,
   "metadata": {},
   "outputs": [
    {
     "name": "stdout",
     "output_type": "stream",
     "text": [
      "+------+-------------+-----+\n",
      "|gender|   occupation|count|\n",
      "+------+-------------+-----+\n",
      "|     F|administrator|   36|\n",
      "|     F|       artist|   13|\n",
      "|     F|     educator|   26|\n",
      "|     F|     engineer|    2|\n",
      "|     F|entertainment|    2|\n",
      "|     F|    executive|    3|\n",
      "|     F|   healthcare|   11|\n",
      "|     F|    homemaker|    6|\n",
      "|     F|       lawyer|    2|\n",
      "|     F|    librarian|   29|\n",
      "|     F|    marketing|   10|\n",
      "|     F|         none|    4|\n",
      "|     F|        other|   36|\n",
      "|     F|   programmer|    6|\n",
      "|     F|      retired|    1|\n",
      "|     F|     salesman|    3|\n",
      "|     F|    scientist|    3|\n",
      "|     F|      student|   60|\n",
      "|     F|   technician|    1|\n",
      "|     F|       writer|   19|\n",
      "|     M|administrator|   43|\n",
      "|     M|       artist|   15|\n",
      "|     M|       doctor|    7|\n",
      "|     M|     educator|   69|\n",
      "|     M|     engineer|   65|\n",
      "|     M|entertainment|   16|\n",
      "|     M|    executive|   29|\n",
      "|     M|   healthcare|    5|\n",
      "|     M|    homemaker|    1|\n",
      "|     M|       lawyer|   10|\n",
      "|     M|    librarian|   22|\n",
      "|     M|    marketing|   16|\n",
      "|     M|         none|    5|\n",
      "|     M|        other|   69|\n",
      "|     M|   programmer|   60|\n",
      "|     M|      retired|   13|\n",
      "|     M|     salesman|    9|\n",
      "|     M|    scientist|   28|\n",
      "|     M|      student|  136|\n",
      "|     M|   technician|   26|\n",
      "|     M|       writer|   26|\n",
      "+------+-------------+-----+\n",
      "\n"
     ]
    }
   ],
   "source": [
    "user_df.select(\"gender\", \"occupation\").\\\n",
    "                groupby(\"gender\", \"occupation\").\\\n",
    "                count().\\\n",
    "                orderBy(\"gender\", \"occupation\").\\\n",
    "                show(100)"
   ]
  },
  {
   "cell_type": "code",
   "execution_count": 47,
   "metadata": {},
   "outputs": [
    {
     "name": "stdout",
     "output_type": "stream",
     "text": [
      "+-----------------+---+---+\n",
      "|occupation_gender|  F|  M|\n",
      "+-----------------+---+---+\n",
      "|        scientist|  3| 28|\n",
      "|          student| 60|136|\n",
      "|           writer| 19| 26|\n",
      "|         salesman|  3|  9|\n",
      "|          retired|  1| 13|\n",
      "|    administrator| 36| 43|\n",
      "|       programmer|  6| 60|\n",
      "|           doctor|  0|  7|\n",
      "|        homemaker|  6|  1|\n",
      "|        executive|  3| 29|\n",
      "|         engineer|  2| 65|\n",
      "|    entertainment|  2| 16|\n",
      "|        marketing| 10| 16|\n",
      "|       technician|  1| 26|\n",
      "|           artist| 13| 15|\n",
      "|        librarian| 29| 22|\n",
      "|           lawyer|  2| 10|\n",
      "|         educator| 26| 69|\n",
      "|       healthcare| 11|  5|\n",
      "|             none|  4|  5|\n",
      "|            other| 36| 69|\n",
      "+-----------------+---+---+\n",
      "\n"
     ]
    }
   ],
   "source": [
    "user_df.stat.crosstab(\"occupation\", \"gender\").show(30) # 交叉表"
   ]
  },
  {
   "cell_type": "code",
   "execution_count": 48,
   "metadata": {},
   "outputs": [
    {
     "name": "stdout",
     "output_type": "stream",
     "text": [
      "+------+-------------+------+\n",
      "|gender|   occupation|counts|\n",
      "+------+-------------+------+\n",
      "|     M|    executive|    29|\n",
      "|     M|     educator|    69|\n",
      "|     F|         none|     4|\n",
      "|     F|entertainment|     2|\n",
      "|     F|      retired|     1|\n",
      "|     F|       artist|    13|\n",
      "|     F|    librarian|    29|\n",
      "|     F|     engineer|     2|\n",
      "|     F|   healthcare|    11|\n",
      "|     F|administrator|    36|\n",
      "|     M|        other|    69|\n",
      "|     M|    homemaker|     1|\n",
      "|     F|       lawyer|     2|\n",
      "|     M|   programmer|    60|\n",
      "|     M|     salesman|     9|\n",
      "|     M|         none|     5|\n",
      "|     M|entertainment|    16|\n",
      "|     M|    marketing|    16|\n",
      "|     M|   technician|    26|\n",
      "|     M|administrator|    43|\n",
      "|     F|    marketing|    10|\n",
      "|     F|   programmer|     6|\n",
      "|     F|   technician|     1|\n",
      "|     F|    executive|     3|\n",
      "|     M|    scientist|    28|\n",
      "|     F|     educator|    26|\n",
      "|     M|      retired|    13|\n",
      "|     M|   healthcare|     5|\n",
      "|     M|       writer|    26|\n",
      "|     M|       lawyer|    10|\n",
      "|     M|      student|   136|\n",
      "|     F|     salesman|     3|\n",
      "|     M|       doctor|     7|\n",
      "|     M|       artist|    15|\n",
      "|     F|    homemaker|     6|\n",
      "|     M|     engineer|    65|\n",
      "|     F|        other|    36|\n",
      "|     F|       writer|    19|\n",
      "|     F|      student|    60|\n",
      "|     F|    scientist|     3|\n",
      "|     M|    librarian|    22|\n",
      "+------+-------------+------+\n",
      "\n"
     ]
    }
   ],
   "source": [
    "sqlContext.sql(\"\"\"\n",
    "SELECT gender, occupation, count(*) counts\n",
    "FROM user_table\n",
    "GROUP BY gender, occupation\n",
    "\"\"\").show(100)"
   ]
  },
  {
   "cell_type": "code",
   "execution_count": 49,
   "metadata": {},
   "outputs": [
    {
     "name": "stdout",
     "output_type": "stream",
     "text": [
      "+------+-----+\n",
      "|gender|count|\n",
      "+------+-----+\n",
      "|     F|  273|\n",
      "|     M|  670|\n",
      "+------+-----+\n",
      "\n"
     ]
    }
   ],
   "source": [
    "user_df.select(\"gender\").groupby(\"gender\").count().show()"
   ]
  },
  {
   "cell_type": "code",
   "execution_count": 50,
   "metadata": {},
   "outputs": [
    {
     "name": "stdout",
     "output_type": "stream",
     "text": [
      "+------+-------------+-----+\n",
      "|gender|   occupation|count|\n",
      "+------+-------------+-----+\n",
      "|     F|administrator|   36|\n",
      "|     F|       artist|   13|\n",
      "|     F|     educator|   26|\n",
      "|     F|     engineer|    2|\n",
      "|     F|entertainment|    2|\n",
      "|     F|    executive|    3|\n",
      "|     F|   healthcare|   11|\n",
      "|     F|    homemaker|    6|\n",
      "|     F|       lawyer|    2|\n",
      "|     F|    librarian|   29|\n",
      "|     F|    marketing|   10|\n",
      "|     F|         none|    4|\n",
      "|     F|        other|   36|\n",
      "|     F|   programmer|    6|\n",
      "|     F|      retired|    1|\n",
      "|     F|     salesman|    3|\n",
      "|     F|    scientist|    3|\n",
      "|     F|      student|   60|\n",
      "|     F|   technician|    1|\n",
      "|     F|       writer|   19|\n",
      "+------+-------------+-----+\n",
      "only showing top 20 rows\n",
      "\n"
     ]
    }
   ],
   "source": [
    "user_df.select(\"gender\", \"occupation\").groupby(\"gender\", \"occupation\").count().orderBy(\"gender\", \"occupation\").show()"
   ]
  },
  {
   "cell_type": "code",
   "execution_count": 51,
   "metadata": {},
   "outputs": [
    {
     "name": "stdout",
     "output_type": "stream",
     "text": [
      "+-------+-----------------+------+-------------+-----------------+------------------+\n",
      "|summary|              age|gender|   occupation|           userid|           zipcode|\n",
      "+-------+-----------------+------+-------------+-----------------+------------------+\n",
      "|  count|              943|   943|          943|              943|               943|\n",
      "|   mean|34.05196182396607|  null|         null|            472.0| 50868.78810810811|\n",
      "| stddev|12.19273973305903|  null|         null|272.3649512449549|30891.373254138158|\n",
      "|    min|                7|     F|administrator|                1|             00000|\n",
      "|    max|               73|     M|       writer|              943|             Y1A6B|\n",
      "+-------+-----------------+------+-------------+-----------------+------------------+\n",
      "\n"
     ]
    }
   ],
   "source": [
    "user_df.describe().show()"
   ]
  },
  {
   "cell_type": "markdown",
   "metadata": {},
   "source": [
    "# 预处理邮编数据集"
   ]
  },
  {
   "cell_type": "code",
   "execution_count": 52,
   "metadata": {},
   "outputs": [
    {
     "data": {
      "text/plain": [
       "['\"Zipcode\",\"ZipCodeType\",\"City\",\"State\",\"LocationType\",\"Lat\",\"Long\",\"Location\",\"Decommisioned\",\"TaxReturnsFiled\",\"EstimatedPopulation\",\"TotalWages\"',\n",
       " '\"00705\",\"STANDARD\",\"AIBONITO\",\"PR\",\"PRIMARY\",18.14,-66.26,\"NA-US-PR-AIBONITO\",\"false\",,,']"
      ]
     },
     "execution_count": 52,
     "metadata": {},
     "output_type": "execute_result"
    }
   ],
   "source": [
    "rawDataWithHeader = sc.textFile(Path + \"free-zipcode-database-Primary.csv\")\n",
    "rawDataWithHeader.take(2)"
   ]
  },
  {
   "cell_type": "code",
   "execution_count": 53,
   "metadata": {},
   "outputs": [
    {
     "data": {
      "text/plain": [
       "'\"00705\",\"STANDARD\",\"AIBONITO\",\"PR\",\"PRIMARY\",18.14,-66.26,\"NA-US-PR-AIBONITO\",\"false\",,,'"
      ]
     },
     "execution_count": 53,
     "metadata": {},
     "output_type": "execute_result"
    }
   ],
   "source": [
    "# 把字段过滤掉\n",
    "header = rawDataWithHeader.first()\n",
    "rawData = rawDataWithHeader.filter(lambda x : x != header)\n",
    "rawData.first()"
   ]
  },
  {
   "cell_type": "code",
   "execution_count": 54,
   "metadata": {},
   "outputs": [
    {
     "data": {
      "text/plain": [
       "'00705,STANDARD,AIBONITO,PR,PRIMARY,18.14,-66.26,NA-US-PR-AIBONITO,false,,,'"
      ]
     },
     "execution_count": 54,
     "metadata": {},
     "output_type": "execute_result"
    }
   ],
   "source": [
    "rData = rawData.map(lambda x : x.replace(\"\\\"\", \"\"))\n",
    "rData.first()"
   ]
  },
  {
   "cell_type": "code",
   "execution_count": 55,
   "metadata": {},
   "outputs": [
    {
     "data": {
      "text/plain": [
       "['00705',\n",
       " 'STANDARD',\n",
       " 'AIBONITO',\n",
       " 'PR',\n",
       " 'PRIMARY',\n",
       " '18.14',\n",
       " '-66.26',\n",
       " 'NA-US-PR-AIBONITO',\n",
       " 'false',\n",
       " '',\n",
       " '',\n",
       " '']"
      ]
     },
     "execution_count": 55,
     "metadata": {},
     "output_type": "execute_result"
    }
   ],
   "source": [
    "ZipRDD = rData.map(lambda x : x.split(\",\"))\n",
    "ZipRDD.first()"
   ]
  },
  {
   "cell_type": "markdown",
   "metadata": {},
   "source": [
    "## 建立DataFrame与临时表zipcode_table"
   ]
  },
  {
   "cell_type": "code",
   "execution_count": 56,
   "metadata": {},
   "outputs": [
    {
     "data": {
      "text/plain": [
       "[Row(city='AIBONITO', state='PR', zipCodeType='STANDARD', zipcode=705),\n",
       " Row(city='ANASCO', state='PR', zipCodeType='STANDARD', zipcode=610),\n",
       " Row(city='ANGELES', state='PR', zipCodeType='PO BOX', zipcode=611),\n",
       " Row(city='ARECIBO', state='PR', zipCodeType='STANDARD', zipcode=612),\n",
       " Row(city='ADJUNTAS', state='PR', zipCodeType='STANDARD', zipcode=601)]"
      ]
     },
     "execution_count": 56,
     "metadata": {},
     "output_type": "execute_result"
    }
   ],
   "source": [
    "from pyspark.sql import Row\n",
    "zipcode_data = ZipRDD.map(lambda p :\n",
    "    Row(\n",
    "        zipcode=int(p[0]),\n",
    "        zipCodeType=p[1],\n",
    "        city=p[2],\n",
    "        state=p[3]\n",
    "    )\n",
    ")\n",
    "zipcode_data.take(5)"
   ]
  },
  {
   "cell_type": "code",
   "execution_count": 57,
   "metadata": {},
   "outputs": [
    {
     "name": "stdout",
     "output_type": "stream",
     "text": [
      "root\n",
      " |-- city: string (nullable = true)\n",
      " |-- state: string (nullable = true)\n",
      " |-- zipCodeType: string (nullable = true)\n",
      " |-- zipcode: long (nullable = true)\n",
      "\n"
     ]
    }
   ],
   "source": [
    "zipcode_df = sqlContext.createDataFrame(zipcode_data)\n",
    "zipcode_df.printSchema()"
   ]
  },
  {
   "cell_type": "code",
   "execution_count": 58,
   "metadata": {},
   "outputs": [
    {
     "name": "stdout",
     "output_type": "stream",
     "text": [
      "+---------+-----+-----------+-------+\n",
      "|     city|state|zipCodeType|zipcode|\n",
      "+---------+-----+-----------+-------+\n",
      "| AIBONITO|   PR|   STANDARD|    705|\n",
      "|   ANASCO|   PR|   STANDARD|    610|\n",
      "|  ANGELES|   PR|     PO BOX|    611|\n",
      "|  ARECIBO|   PR|   STANDARD|    612|\n",
      "| ADJUNTAS|   PR|   STANDARD|    601|\n",
      "| CASTANER|   PR|     PO BOX|    631|\n",
      "|   AGUADA|   PR|   STANDARD|    602|\n",
      "|AGUADILLA|   PR|   STANDARD|    603|\n",
      "|AGUADILLA|   PR|     PO BOX|    604|\n",
      "|AGUADILLA|   PR|     PO BOX|    605|\n",
      "+---------+-----+-----------+-------+\n",
      "only showing top 10 rows\n",
      "\n"
     ]
    }
   ],
   "source": [
    "zipcode_df.registerTempTable(\"zipcode_table\")\n",
    "zipcode_df.show(10)"
   ]
  },
  {
   "cell_type": "code",
   "execution_count": 59,
   "metadata": {},
   "outputs": [
    {
     "name": "stdout",
     "output_type": "stream",
     "text": [
      "+---------+-----+-----------+-------+\n",
      "|     city|state|zipCodeType|zipcode|\n",
      "+---------+-----+-----------+-------+\n",
      "| AIBONITO|   PR|   STANDARD|    705|\n",
      "|   ANASCO|   PR|   STANDARD|    610|\n",
      "|  ANGELES|   PR|     PO BOX|    611|\n",
      "|  ARECIBO|   PR|   STANDARD|    612|\n",
      "| ADJUNTAS|   PR|   STANDARD|    601|\n",
      "| CASTANER|   PR|     PO BOX|    631|\n",
      "|   AGUADA|   PR|   STANDARD|    602|\n",
      "|AGUADILLA|   PR|   STANDARD|    603|\n",
      "|AGUADILLA|   PR|     PO BOX|    604|\n",
      "|AGUADILLA|   PR|     PO BOX|    605|\n",
      "+---------+-----+-----------+-------+\n",
      "only showing top 10 rows\n",
      "\n"
     ]
    }
   ],
   "source": [
    "sqlContext.sql(\"\"\"\n",
    "SELECT z.*\n",
    "FROM zipcode_table z\n",
    "\"\"\").show(10)"
   ]
  },
  {
   "cell_type": "code",
   "execution_count": 60,
   "metadata": {},
   "outputs": [
    {
     "name": "stdout",
     "output_type": "stream",
     "text": [
      "+---+------+-------------+------+-------+\n",
      "|age|gender|   occupation|userid|zipcode|\n",
      "+---+------+-------------+------+-------+\n",
      "| 24|     M|   technician|     1|  85711|\n",
      "| 53|     F|        other|     2|  94043|\n",
      "| 23|     M|       writer|     3|  32067|\n",
      "| 24|     M|   technician|     4|  43537|\n",
      "| 33|     F|        other|     5|  15213|\n",
      "| 42|     M|    executive|     6|  98101|\n",
      "| 57|     M|administrator|     7|  91344|\n",
      "| 36|     M|administrator|     8|  05201|\n",
      "| 29|     M|      student|     9|  01002|\n",
      "| 53|     M|       lawyer|    10|  90703|\n",
      "+---+------+-------------+------+-------+\n",
      "only showing top 10 rows\n",
      "\n"
     ]
    }
   ],
   "source": [
    "sqlContext.sql(\"select * from user_table\").show(10)"
   ]
  },
  {
   "cell_type": "code",
   "execution_count": 61,
   "metadata": {},
   "outputs": [
    {
     "name": "stdout",
     "output_type": "stream",
     "text": [
      "+---+------+-------------+------+-------+----------------+-----+\n",
      "|age|gender|   occupation|userid|zipcode|            city|state|\n",
      "+---+------+-------------+------+-------+----------------+-----+\n",
      "| 22|     F|   healthcare|   405|  10019|        NEW YORK|   NY|\n",
      "| 29|     M|        other|   478|  10019|        NEW YORK|   NY|\n",
      "| 22|     M|      student|   327|  11101|LONG ISLAND CITY|   NY|\n",
      "| 48|     M|     educator|   656|  10314|   STATEN ISLAND|   NY|\n",
      "| 27|     F|       writer|   617|  11201|        BROOKLYN|   NY|\n",
      "| 35|     F|        other|   760|  14211|         BUFFALO|   NY|\n",
      "| 32|     F|        other|   155|  11217|        BROOKLYN|   NY|\n",
      "| 30|     F|       writer|   557|  11217|        BROOKLYN|   NY|\n",
      "| 27|     M|    marketing|   806|  11217|        BROOKLYN|   NY|\n",
      "| 23|     M|administrator|   509|  10011|        NEW YORK|   NY|\n",
      "+---+------+-------------+------+-------+----------------+-----+\n",
      "only showing top 10 rows\n",
      "\n"
     ]
    }
   ],
   "source": [
    "sqlContext.sql(\"\"\"\n",
    "SELECT u.*, z.city, z.state\n",
    "FROM user_table u\n",
    "LEFT JOIN zipcode_table z ON u.zipcode = z.zipcode\n",
    "WHERE z.state='NY'\n",
    "\"\"\").show(10)"
   ]
  },
  {
   "cell_type": "code",
   "execution_count": null,
   "metadata": {},
   "outputs": [],
   "source": []
  }
 ],
 "metadata": {
  "kernelspec": {
   "display_name": "Python 3",
   "language": "python",
   "name": "python3"
  },
  "language_info": {
   "codemirror_mode": {
    "name": "ipython",
    "version": 3
   },
   "file_extension": ".py",
   "mimetype": "text/x-python",
   "name": "python",
   "nbconvert_exporter": "python",
   "pygments_lexer": "ipython3",
   "version": "3.7.6"
  }
 },
 "nbformat": 4,
 "nbformat_minor": 4
}
