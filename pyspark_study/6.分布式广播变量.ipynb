{
 "cells": [
  {
   "cell_type": "markdown",
   "metadata": {},
   "source": [
    "# 6 分布式广播变量\n",
    "\n",
    "广播变量是执行任务的多台计算机进程共享数据对的方式，分布式共享"
   ]
  },
  {
   "cell_type": "code",
   "execution_count": 1,
   "metadata": {},
   "outputs": [],
   "source": [
    "kvFruit = sc.parallelize([(1, \"apple\"), (2, \"orange\"), (3, \"banana\"), (4, \"grape\")])"
   ]
  },
  {
   "cell_type": "code",
   "execution_count": 2,
   "metadata": {},
   "outputs": [
    {
     "name": "stdout",
     "output_type": "stream",
     "text": [
      "字典:{1: 'apple', 2: 'orange', 3: 'banana', 4: 'grape'}\n"
     ]
    }
   ],
   "source": [
    "fruitMap = kvFruit.collectAsMap()\n",
    "print(\"字典:\" + str(fruitMap))"
   ]
  },
  {
   "cell_type": "code",
   "execution_count": 4,
   "metadata": {},
   "outputs": [
    {
     "name": "stdout",
     "output_type": "stream",
     "text": [
      "水果编号：[2, 4, 1, 3]\n"
     ]
    }
   ],
   "source": [
    "fruitIds = sc.parallelize([2, 4, 1, 3])\n",
    "print(\"水果编号：\" + str(fruitIds.collect()))"
   ]
  },
  {
   "cell_type": "code",
   "execution_count": 5,
   "metadata": {},
   "outputs": [
    {
     "name": "stdout",
     "output_type": "stream",
     "text": [
      "使用字典进行转换=>\n",
      "水果名称：['orange', 'grape', 'apple', 'banana']\n"
     ]
    }
   ],
   "source": [
    "print(\"使用字典进行转换=>\")\n",
    "fruitNames = fruitIds.map(lambda x : fruitMap[x]).collect()\n",
    "print(\"水果名称：\" + str(fruitNames))"
   ]
  },
  {
   "cell_type": "code",
   "execution_count": 6,
   "metadata": {},
   "outputs": [
    {
     "name": "stdout",
     "output_type": "stream",
     "text": [
      "字典：{1: 'apple', 2: 'orange', 3: 'banana', 4: 'grape'}\n"
     ]
    }
   ],
   "source": [
    "fruitMap = kvFruit.collectAsMap()\n",
    "bcFruitMap = sc.broadcast(fruitMap) # 设置成广播变量\n",
    "print(\"字典：\" + str(fruitMap))"
   ]
  },
  {
   "cell_type": "code",
   "execution_count": 7,
   "metadata": {},
   "outputs": [
    {
     "name": "stdout",
     "output_type": "stream",
     "text": [
      "水果编号：[2, 4, 1, 3]\n"
     ]
    }
   ],
   "source": [
    "fruitIds = sc.parallelize([2, 4, 1, 3])\n",
    "print(\"水果编号：\" + str(fruitIds.collect()))"
   ]
  },
  {
   "cell_type": "code",
   "execution_count": 8,
   "metadata": {},
   "outputs": [
    {
     "name": "stdout",
     "output_type": "stream",
     "text": [
      "使用Broadcast广播变量字典进行转换=>\n",
      "水果名称：['orange', 'grape', 'apple', 'banana']\n"
     ]
    }
   ],
   "source": [
    "print(\"使用Broadcast广播变量字典进行转换=>\")\n",
    "fruitNames = fruitIds.map(lambda x : bcFruitMap.value[x]).collect() # 使用广播变量\n",
    "print(\"水果名称：\" + str(fruitNames))"
   ]
  },
  {
   "cell_type": "code",
   "execution_count": null,
   "metadata": {},
   "outputs": [],
   "source": []
  }
 ],
 "metadata": {
  "kernelspec": {
   "display_name": "Python 3",
   "language": "python",
   "name": "python3"
  },
  "language_info": {
   "codemirror_mode": {
    "name": "ipython",
    "version": 3
   },
   "file_extension": ".py",
   "mimetype": "text/x-python",
   "name": "python",
   "nbconvert_exporter": "python",
   "pygments_lexer": "ipython3",
   "version": "3.7.6"
  }
 },
 "nbformat": 4,
 "nbformat_minor": 4
}
